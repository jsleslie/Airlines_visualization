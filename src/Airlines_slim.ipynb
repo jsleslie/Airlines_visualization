{
 "cells": [
  {
   "cell_type": "markdown",
   "metadata": {},
   "source": [
    "# Kepler.gl and NetworkX fun with airports and airline routes data"
   ]
  },
  {
   "cell_type": "markdown",
   "metadata": {},
   "source": [
    "## Step 1: Import data set from Openflights.org ## "
   ]
  },
  {
   "cell_type": "code",
   "execution_count": 2,
   "metadata": {},
   "outputs": [],
   "source": [
    "import pandas as pd\n",
    "import json\n",
    "import pprint\n",
    "import networkx as nx\n",
    "from pyvis.network import Network\n",
    "import numpy as np\n",
    "\n",
    "\n",
    "routes_header = ['airline', 'airline ID','source airport','source airport ID','destination airport','destination airport ID', 'code share', 'stops','equipment']\n",
    "airports_header = ['id','source airport', 'city','country','source code1','source code2', 'lattitude','longitude','number1','number2','letter','region', 'airport2','airport3']\n",
    "\n",
    "routes = pd.read_csv(\"../data/routes.dat\",header=None,names=routes_header,skiprows=1)\n",
    "airports = pd.read_csv(\"../data/airports.csv\",header=None,names=airports_header,skiprows=1)"
   ]
  },
  {
   "cell_type": "markdown",
   "metadata": {},
   "source": [
    "## Step 2: Exploration - What does our data look like? ##"
   ]
  },
  {
   "cell_type": "code",
   "execution_count": 2,
   "metadata": {},
   "outputs": [
    {
     "data": {
      "text/html": [
       "<div>\n",
       "<style scoped>\n",
       "    .dataframe tbody tr th:only-of-type {\n",
       "        vertical-align: middle;\n",
       "    }\n",
       "\n",
       "    .dataframe tbody tr th {\n",
       "        vertical-align: top;\n",
       "    }\n",
       "\n",
       "    .dataframe thead th {\n",
       "        text-align: right;\n",
       "    }\n",
       "</style>\n",
       "<table border=\"1\" class=\"dataframe\">\n",
       "  <thead>\n",
       "    <tr style=\"text-align: right;\">\n",
       "      <th></th>\n",
       "      <th>airline</th>\n",
       "      <th>airline ID</th>\n",
       "      <th>source airport</th>\n",
       "      <th>source airport ID</th>\n",
       "      <th>destination airport</th>\n",
       "      <th>destination airport ID</th>\n",
       "      <th>code share</th>\n",
       "      <th>stops</th>\n",
       "      <th>equipment</th>\n",
       "    </tr>\n",
       "  </thead>\n",
       "  <tbody>\n",
       "    <tr>\n",
       "      <td>0</td>\n",
       "      <td>2B</td>\n",
       "      <td>410</td>\n",
       "      <td>ASF</td>\n",
       "      <td>2966</td>\n",
       "      <td>KZN</td>\n",
       "      <td>2990</td>\n",
       "      <td>NaN</td>\n",
       "      <td>0</td>\n",
       "      <td>CR2</td>\n",
       "    </tr>\n",
       "    <tr>\n",
       "      <td>1</td>\n",
       "      <td>2B</td>\n",
       "      <td>410</td>\n",
       "      <td>ASF</td>\n",
       "      <td>2966</td>\n",
       "      <td>MRV</td>\n",
       "      <td>2962</td>\n",
       "      <td>NaN</td>\n",
       "      <td>0</td>\n",
       "      <td>CR2</td>\n",
       "    </tr>\n",
       "    <tr>\n",
       "      <td>2</td>\n",
       "      <td>2B</td>\n",
       "      <td>410</td>\n",
       "      <td>CEK</td>\n",
       "      <td>2968</td>\n",
       "      <td>KZN</td>\n",
       "      <td>2990</td>\n",
       "      <td>NaN</td>\n",
       "      <td>0</td>\n",
       "      <td>CR2</td>\n",
       "    </tr>\n",
       "    <tr>\n",
       "      <td>3</td>\n",
       "      <td>2B</td>\n",
       "      <td>410</td>\n",
       "      <td>CEK</td>\n",
       "      <td>2968</td>\n",
       "      <td>OVB</td>\n",
       "      <td>4078</td>\n",
       "      <td>NaN</td>\n",
       "      <td>0</td>\n",
       "      <td>CR2</td>\n",
       "    </tr>\n",
       "    <tr>\n",
       "      <td>4</td>\n",
       "      <td>2B</td>\n",
       "      <td>410</td>\n",
       "      <td>DME</td>\n",
       "      <td>4029</td>\n",
       "      <td>KZN</td>\n",
       "      <td>2990</td>\n",
       "      <td>NaN</td>\n",
       "      <td>0</td>\n",
       "      <td>CR2</td>\n",
       "    </tr>\n",
       "  </tbody>\n",
       "</table>\n",
       "</div>"
      ],
      "text/plain": [
       "  airline airline ID source airport source airport ID destination airport  \\\n",
       "0      2B        410            ASF              2966                 KZN   \n",
       "1      2B        410            ASF              2966                 MRV   \n",
       "2      2B        410            CEK              2968                 KZN   \n",
       "3      2B        410            CEK              2968                 OVB   \n",
       "4      2B        410            DME              4029                 KZN   \n",
       "\n",
       "  destination airport ID code share  stops equipment  \n",
       "0                   2990        NaN      0       CR2  \n",
       "1                   2962        NaN      0       CR2  \n",
       "2                   2990        NaN      0       CR2  \n",
       "3                   4078        NaN      0       CR2  \n",
       "4                   2990        NaN      0       CR2  "
      ]
     },
     "execution_count": 2,
     "metadata": {},
     "output_type": "execute_result"
    }
   ],
   "source": [
    "routes.head()\n"
   ]
  },
  {
   "cell_type": "code",
   "execution_count": 3,
   "metadata": {},
   "outputs": [
    {
     "data": {
      "text/html": [
       "<div>\n",
       "<style scoped>\n",
       "    .dataframe tbody tr th:only-of-type {\n",
       "        vertical-align: middle;\n",
       "    }\n",
       "\n",
       "    .dataframe tbody tr th {\n",
       "        vertical-align: top;\n",
       "    }\n",
       "\n",
       "    .dataframe thead th {\n",
       "        text-align: right;\n",
       "    }\n",
       "</style>\n",
       "<table border=\"1\" class=\"dataframe\">\n",
       "  <thead>\n",
       "    <tr style=\"text-align: right;\">\n",
       "      <th></th>\n",
       "      <th>id</th>\n",
       "      <th>source airport</th>\n",
       "      <th>city</th>\n",
       "      <th>country</th>\n",
       "      <th>source code1</th>\n",
       "      <th>source code2</th>\n",
       "      <th>lattitude</th>\n",
       "      <th>longitude</th>\n",
       "      <th>number1</th>\n",
       "      <th>number2</th>\n",
       "      <th>letter</th>\n",
       "      <th>region</th>\n",
       "      <th>airport2</th>\n",
       "      <th>airport3</th>\n",
       "    </tr>\n",
       "  </thead>\n",
       "  <tbody>\n",
       "    <tr>\n",
       "      <td>0</td>\n",
       "      <td>2</td>\n",
       "      <td>Madang Airport</td>\n",
       "      <td>Madang</td>\n",
       "      <td>Papua New Guinea</td>\n",
       "      <td>MAG</td>\n",
       "      <td>AYMD</td>\n",
       "      <td>-5.207080</td>\n",
       "      <td>145.789001</td>\n",
       "      <td>20</td>\n",
       "      <td>10</td>\n",
       "      <td>U</td>\n",
       "      <td>Pacific/Port_Moresby</td>\n",
       "      <td>airport</td>\n",
       "      <td>OurAirports</td>\n",
       "    </tr>\n",
       "    <tr>\n",
       "      <td>1</td>\n",
       "      <td>3</td>\n",
       "      <td>Mount Hagen Kagamuga Airport</td>\n",
       "      <td>Mount Hagen</td>\n",
       "      <td>Papua New Guinea</td>\n",
       "      <td>HGU</td>\n",
       "      <td>AYMH</td>\n",
       "      <td>-5.826790</td>\n",
       "      <td>144.296005</td>\n",
       "      <td>5388</td>\n",
       "      <td>10</td>\n",
       "      <td>U</td>\n",
       "      <td>Pacific/Port_Moresby</td>\n",
       "      <td>airport</td>\n",
       "      <td>OurAirports</td>\n",
       "    </tr>\n",
       "    <tr>\n",
       "      <td>2</td>\n",
       "      <td>4</td>\n",
       "      <td>Nadzab Airport</td>\n",
       "      <td>Nadzab</td>\n",
       "      <td>Papua New Guinea</td>\n",
       "      <td>LAE</td>\n",
       "      <td>AYNZ</td>\n",
       "      <td>-6.569803</td>\n",
       "      <td>146.725977</td>\n",
       "      <td>239</td>\n",
       "      <td>10</td>\n",
       "      <td>U</td>\n",
       "      <td>Pacific/Port_Moresby</td>\n",
       "      <td>airport</td>\n",
       "      <td>OurAirports</td>\n",
       "    </tr>\n",
       "    <tr>\n",
       "      <td>3</td>\n",
       "      <td>5</td>\n",
       "      <td>Port Moresby Jacksons International Airport</td>\n",
       "      <td>Port Moresby</td>\n",
       "      <td>Papua New Guinea</td>\n",
       "      <td>POM</td>\n",
       "      <td>AYPY</td>\n",
       "      <td>-9.443380</td>\n",
       "      <td>147.220001</td>\n",
       "      <td>146</td>\n",
       "      <td>10</td>\n",
       "      <td>U</td>\n",
       "      <td>Pacific/Port_Moresby</td>\n",
       "      <td>airport</td>\n",
       "      <td>OurAirports</td>\n",
       "    </tr>\n",
       "    <tr>\n",
       "      <td>4</td>\n",
       "      <td>6</td>\n",
       "      <td>Wewak International Airport</td>\n",
       "      <td>Wewak</td>\n",
       "      <td>Papua New Guinea</td>\n",
       "      <td>WWK</td>\n",
       "      <td>AYWK</td>\n",
       "      <td>-3.583830</td>\n",
       "      <td>143.669006</td>\n",
       "      <td>19</td>\n",
       "      <td>10</td>\n",
       "      <td>U</td>\n",
       "      <td>Pacific/Port_Moresby</td>\n",
       "      <td>airport</td>\n",
       "      <td>OurAirports</td>\n",
       "    </tr>\n",
       "  </tbody>\n",
       "</table>\n",
       "</div>"
      ],
      "text/plain": [
       "   id                               source airport          city  \\\n",
       "0   2                               Madang Airport        Madang   \n",
       "1   3                 Mount Hagen Kagamuga Airport   Mount Hagen   \n",
       "2   4                               Nadzab Airport        Nadzab   \n",
       "3   5  Port Moresby Jacksons International Airport  Port Moresby   \n",
       "4   6                  Wewak International Airport         Wewak   \n",
       "\n",
       "            country source code1 source code2  lattitude   longitude  number1  \\\n",
       "0  Papua New Guinea          MAG         AYMD  -5.207080  145.789001       20   \n",
       "1  Papua New Guinea          HGU         AYMH  -5.826790  144.296005     5388   \n",
       "2  Papua New Guinea          LAE         AYNZ  -6.569803  146.725977      239   \n",
       "3  Papua New Guinea          POM         AYPY  -9.443380  147.220001      146   \n",
       "4  Papua New Guinea          WWK         AYWK  -3.583830  143.669006       19   \n",
       "\n",
       "  number2 letter                region airport2     airport3  \n",
       "0      10      U  Pacific/Port_Moresby  airport  OurAirports  \n",
       "1      10      U  Pacific/Port_Moresby  airport  OurAirports  \n",
       "2      10      U  Pacific/Port_Moresby  airport  OurAirports  \n",
       "3      10      U  Pacific/Port_Moresby  airport  OurAirports  \n",
       "4      10      U  Pacific/Port_Moresby  airport  OurAirports  "
      ]
     },
     "execution_count": 3,
     "metadata": {},
     "output_type": "execute_result"
    }
   ],
   "source": [
    "airports.head()\n"
   ]
  },
  {
   "cell_type": "markdown",
   "metadata": {},
   "source": [
    "## Step 3: Research questions?\n",
    "\n",
    "- What Caribbean airports are connected to each other?\n",
    "\n",
    "- What are the most central Caribbean airports?\n"
   ]
  },
  {
   "cell_type": "markdown",
   "metadata": {},
   "source": [
    "## Step 4: Wrangling\n",
    "\n",
    "In order to answer these questions we need to tidy the data to see the following:\n",
    "\n",
    "- For each airport, store the location as a tuple of coordinates\n",
    "\n",
    "- For each airport, list the destinations"
   ]
  },
  {
   "cell_type": "markdown",
   "metadata": {},
   "source": [
    "#### 4.1 Create list of destinations for each airport"
   ]
  },
  {
   "cell_type": "code",
   "execution_count": 4,
   "metadata": {},
   "outputs": [],
   "source": [
    "routes = routes.groupby('source airport')['destination airport'].apply(lambda x: list(x)).reset_index()"
   ]
  },
  {
   "cell_type": "markdown",
   "metadata": {},
   "source": [
    "#### 4.2 Create a tuple of coordinates for each airport ###\n"
   ]
  },
  {
   "cell_type": "code",
   "execution_count": 5,
   "metadata": {},
   "outputs": [],
   "source": [
    "airports = airports[['source airport', 'city', 'country', 'source code1', 'lattitude', 'longitude']]"
   ]
  },
  {
   "cell_type": "code",
   "execution_count": 6,
   "metadata": {},
   "outputs": [],
   "source": [
    "airports['location'] = list(zip(airports['longitude'],airports['lattitude']))"
   ]
  },
  {
   "cell_type": "code",
   "execution_count": 7,
   "metadata": {},
   "outputs": [
    {
     "data": {
      "text/html": [
       "<div>\n",
       "<style scoped>\n",
       "    .dataframe tbody tr th:only-of-type {\n",
       "        vertical-align: middle;\n",
       "    }\n",
       "\n",
       "    .dataframe tbody tr th {\n",
       "        vertical-align: top;\n",
       "    }\n",
       "\n",
       "    .dataframe thead th {\n",
       "        text-align: right;\n",
       "    }\n",
       "</style>\n",
       "<table border=\"1\" class=\"dataframe\">\n",
       "  <thead>\n",
       "    <tr style=\"text-align: right;\">\n",
       "      <th></th>\n",
       "      <th>source airport</th>\n",
       "      <th>city</th>\n",
       "      <th>country</th>\n",
       "      <th>source code1</th>\n",
       "      <th>lattitude</th>\n",
       "      <th>longitude</th>\n",
       "      <th>location</th>\n",
       "    </tr>\n",
       "  </thead>\n",
       "  <tbody>\n",
       "    <tr>\n",
       "      <td>0</td>\n",
       "      <td>Madang Airport</td>\n",
       "      <td>Madang</td>\n",
       "      <td>Papua New Guinea</td>\n",
       "      <td>MAG</td>\n",
       "      <td>-5.207080</td>\n",
       "      <td>145.789001</td>\n",
       "      <td>(145.789001465, -5.20707988739)</td>\n",
       "    </tr>\n",
       "    <tr>\n",
       "      <td>1</td>\n",
       "      <td>Mount Hagen Kagamuga Airport</td>\n",
       "      <td>Mount Hagen</td>\n",
       "      <td>Papua New Guinea</td>\n",
       "      <td>HGU</td>\n",
       "      <td>-5.826790</td>\n",
       "      <td>144.296005</td>\n",
       "      <td>(144.29600524902344, -5.826789855957031)</td>\n",
       "    </tr>\n",
       "    <tr>\n",
       "      <td>2</td>\n",
       "      <td>Nadzab Airport</td>\n",
       "      <td>Nadzab</td>\n",
       "      <td>Papua New Guinea</td>\n",
       "      <td>LAE</td>\n",
       "      <td>-6.569803</td>\n",
       "      <td>146.725977</td>\n",
       "      <td>(146.725977, -6.569803)</td>\n",
       "    </tr>\n",
       "    <tr>\n",
       "      <td>3</td>\n",
       "      <td>Port Moresby Jacksons International Airport</td>\n",
       "      <td>Port Moresby</td>\n",
       "      <td>Papua New Guinea</td>\n",
       "      <td>POM</td>\n",
       "      <td>-9.443380</td>\n",
       "      <td>147.220001</td>\n",
       "      <td>(147.22000122070312, -9.443380355834961)</td>\n",
       "    </tr>\n",
       "    <tr>\n",
       "      <td>4</td>\n",
       "      <td>Wewak International Airport</td>\n",
       "      <td>Wewak</td>\n",
       "      <td>Papua New Guinea</td>\n",
       "      <td>WWK</td>\n",
       "      <td>-3.583830</td>\n",
       "      <td>143.669006</td>\n",
       "      <td>(143.66900634799998, -3.5838301181800003)</td>\n",
       "    </tr>\n",
       "  </tbody>\n",
       "</table>\n",
       "</div>"
      ],
      "text/plain": [
       "                                source airport          city  \\\n",
       "0                               Madang Airport        Madang   \n",
       "1                 Mount Hagen Kagamuga Airport   Mount Hagen   \n",
       "2                               Nadzab Airport        Nadzab   \n",
       "3  Port Moresby Jacksons International Airport  Port Moresby   \n",
       "4                  Wewak International Airport         Wewak   \n",
       "\n",
       "            country source code1  lattitude   longitude  \\\n",
       "0  Papua New Guinea          MAG  -5.207080  145.789001   \n",
       "1  Papua New Guinea          HGU  -5.826790  144.296005   \n",
       "2  Papua New Guinea          LAE  -6.569803  146.725977   \n",
       "3  Papua New Guinea          POM  -9.443380  147.220001   \n",
       "4  Papua New Guinea          WWK  -3.583830  143.669006   \n",
       "\n",
       "                                    location  \n",
       "0            (145.789001465, -5.20707988739)  \n",
       "1   (144.29600524902344, -5.826789855957031)  \n",
       "2                    (146.725977, -6.569803)  \n",
       "3   (147.22000122070312, -9.443380355834961)  \n",
       "4  (143.66900634799998, -3.5838301181800003)  "
      ]
     },
     "execution_count": 7,
     "metadata": {},
     "output_type": "execute_result"
    }
   ],
   "source": [
    "airports.head()"
   ]
  },
  {
   "cell_type": "markdown",
   "metadata": {},
   "source": [
    "#### 4.3 Merge tables and tidy data"
   ]
  },
  {
   "cell_type": "code",
   "execution_count": 8,
   "metadata": {},
   "outputs": [],
   "source": [
    "routes = pd.merge(left = routes, right = airports, how = 'inner', left_on = 'source airport', right_on = 'source code1')"
   ]
  },
  {
   "cell_type": "code",
   "execution_count": 9,
   "metadata": {},
   "outputs": [],
   "source": [
    "routes = routes.rename(columns = {'source airport_x': 'airport_code', 'source airport_y': 'airport_name',\n",
    "                         'destination airport':'destination_airport'})"
   ]
  },
  {
   "cell_type": "code",
   "execution_count": 10,
   "metadata": {},
   "outputs": [],
   "source": [
    "# routes = routes.drop(columns = ['source code1', 'lattitude', 'longitude'])\n",
    "routes = routes.drop(columns = ['source code1'])"
   ]
  },
  {
   "cell_type": "code",
   "execution_count": 11,
   "metadata": {},
   "outputs": [
    {
     "data": {
      "text/html": [
       "<div>\n",
       "<style scoped>\n",
       "    .dataframe tbody tr th:only-of-type {\n",
       "        vertical-align: middle;\n",
       "    }\n",
       "\n",
       "    .dataframe tbody tr th {\n",
       "        vertical-align: top;\n",
       "    }\n",
       "\n",
       "    .dataframe thead th {\n",
       "        text-align: right;\n",
       "    }\n",
       "</style>\n",
       "<table border=\"1\" class=\"dataframe\">\n",
       "  <thead>\n",
       "    <tr style=\"text-align: right;\">\n",
       "      <th></th>\n",
       "      <th>airport_code</th>\n",
       "      <th>destination_airport</th>\n",
       "      <th>airport_name</th>\n",
       "      <th>city</th>\n",
       "      <th>country</th>\n",
       "      <th>lattitude</th>\n",
       "      <th>longitude</th>\n",
       "      <th>location</th>\n",
       "    </tr>\n",
       "  </thead>\n",
       "  <tbody>\n",
       "    <tr>\n",
       "      <td>0</td>\n",
       "      <td>AAE</td>\n",
       "      <td>[ALG, CDG, IST, LYS, MRS, ORN, ORY, MRS, ORY]</td>\n",
       "      <td>Annaba Airport</td>\n",
       "      <td>Annaba</td>\n",
       "      <td>Algeria</td>\n",
       "      <td>36.822201</td>\n",
       "      <td>7.809170</td>\n",
       "      <td>(7.8091697692871085, 36.82220077514648)</td>\n",
       "    </tr>\n",
       "    <tr>\n",
       "      <td>1</td>\n",
       "      <td>AAL</td>\n",
       "      <td>[AMS, AAR, OSL, BLL, SVG, AGP, ALC, CPH, LGW, ...</td>\n",
       "      <td>Aalborg Airport</td>\n",
       "      <td>Aalborg</td>\n",
       "      <td>Denmark</td>\n",
       "      <td>57.092759</td>\n",
       "      <td>9.849243</td>\n",
       "      <td>(9.84924316406, 57.092758913800004)</td>\n",
       "    </tr>\n",
       "    <tr>\n",
       "      <td>2</td>\n",
       "      <td>AAN</td>\n",
       "      <td>[CCJ, PEW]</td>\n",
       "      <td>Al Ain International Airport</td>\n",
       "      <td>Al Ain</td>\n",
       "      <td>United Arab Emirates</td>\n",
       "      <td>24.261700</td>\n",
       "      <td>55.609200</td>\n",
       "      <td>(55.60919952392578, 24.261699676513672)</td>\n",
       "    </tr>\n",
       "    <tr>\n",
       "      <td>3</td>\n",
       "      <td>AAQ</td>\n",
       "      <td>[DME, LED, SVO]</td>\n",
       "      <td>Anapa Vityazevo Airport</td>\n",
       "      <td>Anapa</td>\n",
       "      <td>Russia</td>\n",
       "      <td>45.002102</td>\n",
       "      <td>37.347301</td>\n",
       "      <td>(37.347301483154, 45.002101898193)</td>\n",
       "    </tr>\n",
       "    <tr>\n",
       "      <td>4</td>\n",
       "      <td>AAR</td>\n",
       "      <td>[AAL, BMA, GOT, OSL, AGP, PMI, STN, CPH]</td>\n",
       "      <td>Aarhus Airport</td>\n",
       "      <td>Aarhus</td>\n",
       "      <td>Denmark</td>\n",
       "      <td>56.299999</td>\n",
       "      <td>10.619000</td>\n",
       "      <td>(10.619000434899998, 56.2999992371)</td>\n",
       "    </tr>\n",
       "  </tbody>\n",
       "</table>\n",
       "</div>"
      ],
      "text/plain": [
       "  airport_code                                destination_airport  \\\n",
       "0          AAE      [ALG, CDG, IST, LYS, MRS, ORN, ORY, MRS, ORY]   \n",
       "1          AAL  [AMS, AAR, OSL, BLL, SVG, AGP, ALC, CPH, LGW, ...   \n",
       "2          AAN                                         [CCJ, PEW]   \n",
       "3          AAQ                                    [DME, LED, SVO]   \n",
       "4          AAR           [AAL, BMA, GOT, OSL, AGP, PMI, STN, CPH]   \n",
       "\n",
       "                   airport_name     city               country  lattitude  \\\n",
       "0                Annaba Airport   Annaba               Algeria  36.822201   \n",
       "1               Aalborg Airport  Aalborg               Denmark  57.092759   \n",
       "2  Al Ain International Airport   Al Ain  United Arab Emirates  24.261700   \n",
       "3       Anapa Vityazevo Airport    Anapa                Russia  45.002102   \n",
       "4                Aarhus Airport   Aarhus               Denmark  56.299999   \n",
       "\n",
       "   longitude                                 location  \n",
       "0   7.809170  (7.8091697692871085, 36.82220077514648)  \n",
       "1   9.849243      (9.84924316406, 57.092758913800004)  \n",
       "2  55.609200  (55.60919952392578, 24.261699676513672)  \n",
       "3  37.347301       (37.347301483154, 45.002101898193)  \n",
       "4  10.619000      (10.619000434899998, 56.2999992371)  "
      ]
     },
     "execution_count": 11,
     "metadata": {},
     "output_type": "execute_result"
    }
   ],
   "source": [
    "routes.head()"
   ]
  },
  {
   "cell_type": "markdown",
   "metadata": {},
   "source": [
    "## Step 5: Write NetworkX graphing functions"
   ]
  },
  {
   "cell_type": "code",
   "execution_count": 12,
   "metadata": {},
   "outputs": [],
   "source": [
    "draw_params = {\"node_color\" : \"pink\", \"font_size\" : 10, \"with_labels\" : True, \"arrowsize\" : 20}\n"
   ]
  },
  {
   "cell_type": "code",
   "execution_count": 13,
   "metadata": {},
   "outputs": [],
   "source": [
    "def locater(airport, roster=routes):\n",
    "    \"\"\"\n",
    "        Finds airport location\n",
    "        \n",
    "        Parameters\n",
    "        ----------\n",
    "        roster : a pandas dataframe with 3 columns of interest:\n",
    "            - airport_code\n",
    "            - list of destination airports\n",
    "            - coordinate location of airport\n",
    "        \n",
    "        airport : a string representing an airport code\n",
    "        \n",
    "        Returns\n",
    "        -------\n",
    "        tuple of coordinates (longitude, lattitude)\n",
    "\n",
    "        Examples\n",
    "        --------\n",
    "        locater('BGI') --> (13.0746002197, -59.492500305200004)\n",
    "        locater('YYZ') --> (43.6772003174, -79.63059997559999)\n",
    "    \"\"\"       \n",
    "    return roster[roster['airport_code']== airport]['location'].values[0]"
   ]
  },
  {
   "cell_type": "code",
   "execution_count": 14,
   "metadata": {},
   "outputs": [
    {
     "data": {
      "text/plain": [
       "(-79.63059997559999, 43.6772003174)"
      ]
     },
     "execution_count": 14,
     "metadata": {},
     "output_type": "execute_result"
    }
   ],
   "source": [
    "locater('YYZ')"
   ]
  },
  {
   "cell_type": "code",
   "execution_count": 15,
   "metadata": {},
   "outputs": [],
   "source": [
    "def route_mapper(roster, airport):\n",
    "    \"\"\"\n",
    "        Creates a dictionary roster of destinations for each location.\n",
    "        \n",
    "        Parameters\n",
    "        ----------\n",
    "        roster : a pandas dataframe with 3 columns of interest:\n",
    "            - airport_code\n",
    "            - list of destination airports\n",
    "            - coordinate location of airport\n",
    "        \n",
    "        airport : a string representing an airport code\n",
    "        \n",
    "        Returns\n",
    "        -------\n",
    "        graph\n",
    "\n",
    "        Examples\n",
    "        --------\n",
    "        route_mapper(routes)\n",
    "    \"\"\"       \n",
    "    G = nx.Graph()\n",
    "    G.add_node(airport, pos = locater(airport, roster))\n",
    "    list(map(lambda x: G.add_node(x, pos = locater(x, roster)), list(roster[roster['airport_code'] == airport]['destination_airport'])[0]))\n",
    "    list(map(lambda x: G.add_edge(airport,x),list(roster[roster['airport_code'] == airport]['destination_airport'])[0]))\n",
    "    return G"
   ]
  },
  {
   "cell_type": "code",
   "execution_count": 16,
   "metadata": {},
   "outputs": [],
   "source": [
    "Barbados = route_mapper(routes, 'BGI')"
   ]
  },
  {
   "cell_type": "code",
   "execution_count": 17,
   "metadata": {},
   "outputs": [],
   "source": [
    "pos = nx.get_node_attributes(Barbados,'pos')"
   ]
  },
  {
   "cell_type": "code",
   "execution_count": 19,
   "metadata": {},
   "outputs": [
    {
     "data": {
      "image/png": "[encoded data removed]",
      "text/plain": [
       "<Figure size 432x288 with 1 Axes>"
      ]
     },
     "metadata": {},
     "output_type": "display_data"
    }
   ],
   "source": [
    "nx.draw(Barbados, pos, **draw_params)"
   ]
  },
  {
   "cell_type": "code",
   "execution_count": 20,
   "metadata": {},
   "outputs": [
    {
     "data": {
      "text/plain": [
       "{'BGI': (-59.492500305200004, 13.0746002197),\n",
       " 'MIA': (-80.29060363769531, 25.79319953918457),\n",
       " 'YYZ': (-79.63059997559999, 43.6772003174),\n",
       " 'JFK': (-73.77890015, 40.63980103),\n",
       " 'LGW': (-0.19027799367904666, 51.14810180664063),\n",
       " 'ANU': (-61.792702, 17.1367),\n",
       " 'KIN': (-76.7874984741211, 17.935699462890625),\n",
       " 'POS': (-61.33720016479492, 10.595399856567383),\n",
       " 'SXM': (-63.108898162799996, 18.0410003662),\n",
       " 'FRA': (8.5705556, 50.033333299999995),\n",
       " 'MAN': (-2.2749500274658203, 53.35369873046875),\n",
       " 'GRU': (-46.47305679321289, -23.435556411743164),\n",
       " 'DOM': (-61.29999923706055, 15.54699993133545),\n",
       " 'FDF': (-61.00320053100586, 14.590999603271484),\n",
       " 'GND': (-61.78620147705078, 12.004199981689453),\n",
       " 'OGL': (-58.1058998108, 6.80628013611),\n",
       " 'SLU': (-60.992901, 14.0202),\n",
       " 'SVD': (-61.210899353027344, 13.14430046081543)}"
      ]
     },
     "execution_count": 20,
     "metadata": {},
     "output_type": "execute_result"
    }
   ],
   "source": [
    "pos"
   ]
  },
  {
   "cell_type": "code",
   "execution_count": 21,
   "metadata": {},
   "outputs": [
    {
     "data": {
      "text/html": [
       "<div>\n",
       "<style scoped>\n",
       "    .dataframe tbody tr th:only-of-type {\n",
       "        vertical-align: middle;\n",
       "    }\n",
       "\n",
       "    .dataframe tbody tr th {\n",
       "        vertical-align: top;\n",
       "    }\n",
       "\n",
       "    .dataframe thead th {\n",
       "        text-align: right;\n",
       "    }\n",
       "</style>\n",
       "<table border=\"1\" class=\"dataframe\">\n",
       "  <thead>\n",
       "    <tr style=\"text-align: right;\">\n",
       "      <th></th>\n",
       "      <th>airport_code</th>\n",
       "      <th>destination_airport</th>\n",
       "      <th>airport_name</th>\n",
       "      <th>city</th>\n",
       "      <th>country</th>\n",
       "      <th>lattitude</th>\n",
       "      <th>longitude</th>\n",
       "      <th>location</th>\n",
       "    </tr>\n",
       "  </thead>\n",
       "  <tbody>\n",
       "    <tr>\n",
       "      <td>0</td>\n",
       "      <td>AAE</td>\n",
       "      <td>[ALG, CDG, IST, LYS, MRS, ORN, ORY, MRS, ORY]</td>\n",
       "      <td>Annaba Airport</td>\n",
       "      <td>Annaba</td>\n",
       "      <td>Algeria</td>\n",
       "      <td>36.822201</td>\n",
       "      <td>7.809170</td>\n",
       "      <td>(7.8091697692871085, 36.82220077514648)</td>\n",
       "    </tr>\n",
       "    <tr>\n",
       "      <td>1</td>\n",
       "      <td>AAL</td>\n",
       "      <td>[AMS, AAR, OSL, BLL, SVG, AGP, ALC, CPH, LGW, ...</td>\n",
       "      <td>Aalborg Airport</td>\n",
       "      <td>Aalborg</td>\n",
       "      <td>Denmark</td>\n",
       "      <td>57.092759</td>\n",
       "      <td>9.849243</td>\n",
       "      <td>(9.84924316406, 57.092758913800004)</td>\n",
       "    </tr>\n",
       "    <tr>\n",
       "      <td>2</td>\n",
       "      <td>AAN</td>\n",
       "      <td>[CCJ, PEW]</td>\n",
       "      <td>Al Ain International Airport</td>\n",
       "      <td>Al Ain</td>\n",
       "      <td>United Arab Emirates</td>\n",
       "      <td>24.261700</td>\n",
       "      <td>55.609200</td>\n",
       "      <td>(55.60919952392578, 24.261699676513672)</td>\n",
       "    </tr>\n",
       "    <tr>\n",
       "      <td>3</td>\n",
       "      <td>AAQ</td>\n",
       "      <td>[DME, LED, SVO]</td>\n",
       "      <td>Anapa Vityazevo Airport</td>\n",
       "      <td>Anapa</td>\n",
       "      <td>Russia</td>\n",
       "      <td>45.002102</td>\n",
       "      <td>37.347301</td>\n",
       "      <td>(37.347301483154, 45.002101898193)</td>\n",
       "    </tr>\n",
       "    <tr>\n",
       "      <td>4</td>\n",
       "      <td>AAR</td>\n",
       "      <td>[AAL, BMA, GOT, OSL, AGP, PMI, STN, CPH]</td>\n",
       "      <td>Aarhus Airport</td>\n",
       "      <td>Aarhus</td>\n",
       "      <td>Denmark</td>\n",
       "      <td>56.299999</td>\n",
       "      <td>10.619000</td>\n",
       "      <td>(10.619000434899998, 56.2999992371)</td>\n",
       "    </tr>\n",
       "  </tbody>\n",
       "</table>\n",
       "</div>"
      ],
      "text/plain": [
       "  airport_code                                destination_airport  \\\n",
       "0          AAE      [ALG, CDG, IST, LYS, MRS, ORN, ORY, MRS, ORY]   \n",
       "1          AAL  [AMS, AAR, OSL, BLL, SVG, AGP, ALC, CPH, LGW, ...   \n",
       "2          AAN                                         [CCJ, PEW]   \n",
       "3          AAQ                                    [DME, LED, SVO]   \n",
       "4          AAR           [AAL, BMA, GOT, OSL, AGP, PMI, STN, CPH]   \n",
       "\n",
       "                   airport_name     city               country  lattitude  \\\n",
       "0                Annaba Airport   Annaba               Algeria  36.822201   \n",
       "1               Aalborg Airport  Aalborg               Denmark  57.092759   \n",
       "2  Al Ain International Airport   Al Ain  United Arab Emirates  24.261700   \n",
       "3       Anapa Vityazevo Airport    Anapa                Russia  45.002102   \n",
       "4                Aarhus Airport   Aarhus               Denmark  56.299999   \n",
       "\n",
       "   longitude                                 location  \n",
       "0   7.809170  (7.8091697692871085, 36.82220077514648)  \n",
       "1   9.849243      (9.84924316406, 57.092758913800004)  \n",
       "2  55.609200  (55.60919952392578, 24.261699676513672)  \n",
       "3  37.347301       (37.347301483154, 45.002101898193)  \n",
       "4  10.619000      (10.619000434899998, 56.2999992371)  "
      ]
     },
     "execution_count": 21,
     "metadata": {},
     "output_type": "execute_result"
    }
   ],
   "source": [
    "routes.head()"
   ]
  },
  {
   "cell_type": "code",
   "execution_count": 22,
   "metadata": {},
   "outputs": [],
   "source": [
    "net = Network()"
   ]
  },
  {
   "cell_type": "code",
   "execution_count": 23,
   "metadata": {},
   "outputs": [],
   "source": [
    "G2 = Network()\n",
    "G2.from_nx(Barbados)"
   ]
  },
  {
   "cell_type": "code",
   "execution_count": 24,
   "metadata": {},
   "outputs": [],
   "source": [
    "G2.show(\"nxport.html\")"
   ]
  },
  {
   "cell_type": "code",
   "execution_count": 295,
   "metadata": {},
   "outputs": [],
   "source": [
    "def initialize_map(roster, airport):\n",
    "    \"\"\"\n",
    "        Creates a dictionary roster of destinations for each location.\n",
    "        \n",
    "        Parameters\n",
    "        ----------\n",
    "        roster : a pandas dataframe with 3 columns of interest:\n",
    "            - airport_code\n",
    "            - list of destination airports\n",
    "            - coordinate location of airport\n",
    "        \n",
    "        airport : a string representing an airport code\n",
    "        \n",
    "        Returns\n",
    "        -------\n",
    "        graph\n",
    "\n",
    "        Examples\n",
    "        --------\n",
    "        route_mapper(routes)\n",
    "    \"\"\"       \n",
    "    G = Network()\n",
    "    x, y = locater(airport, routes)\n",
    "    G.add_node(0, node = airport, label = routes.query('airport_code == @airport')['country'].item(),\n",
    "               title = routes.query('airport_code == @airport')['airport_name'].item(),\n",
    "               x = x, y = y)\n",
    "    \n",
    "    \n",
    "    airport_neighbours = list(set(list(routes.query(\"airport_code == @airport\")['destination_airport'])[0]))\n",
    "    \n",
    "    G.add_nodes(list(range(1,len(airport_neighbours)+1)),\n",
    "    #            nodes = airport_neighbours,\n",
    "                title = list(routes.query('airport_code in @airport_neighbours')['airport_name']),                \n",
    "                label = list(routes.query('airport_code in @airport_neighbours')['country']),\n",
    "                x = list(routes.query('airport_code in @airport_neighbours')['longitude']),\n",
    "                y = list(routes.query('airport_code in @airport_neighbours')['lattitude']))\n",
    "\n",
    "    G.show('just_nodes.html')\n",
    "    \n",
    "    for i in range(1,len(airport_neighbours)+1):\n",
    "    \n",
    "        G.add_edge(0, i)\n",
    "    \n",
    "\n",
    "    G.show('with_edges.html')\n",
    "\n",
    "    for n in G.nodes:\n",
    "        n.update({'physics': False})\n",
    "\n",
    "    G.show('with_edges_and_physics.html')\n",
    "\n",
    "\n"
   ]
  },
  {
   "cell_type": "code",
   "execution_count": 282,
   "metadata": {},
   "outputs": [],
   "source": [
    "def add_neighbours(G, roster, airport):\n",
    "    \"\"\"\n",
    "        Creates a dictionary roster of destinations for each location.\n",
    "        \n",
    "        Parameters\n",
    "        ----------\n",
    "        roster : a pandas dataframe with 3 columns of interest:\n",
    "            - airport_code\n",
    "            - list of destination airports\n",
    "            - coordinate location of airport\n",
    "        \n",
    "        airport : a string representing an airport code\n",
    "        \n",
    "        Returns\n",
    "        -------\n",
    "        graph\n",
    "\n",
    "        Examples\n",
    "        --------\n",
    "        route_mapper(routes)\n",
    "    \"\"\"       \n",
    "    airport_neighbours = list(set(list(routes.query(\"airport_code == @airport\")['destination_airport'])[0]))\n",
    "    \n",
    "    G.add_nodes(list(range(1,len(airport_neighbours)+1)),\n",
    "    #            nodes = airport_neighbours,\n",
    "                title = list(routes.query('airport_code in @airport_neighbours')['airport_name']),                \n",
    "                label = list(routes.query('airport_code in @airport_neighbours')['country']),\n",
    "                x = list(routes.query('airport_code in @airport_neighbours')['longitude']),\n",
    "                y = list(routes.query('airport_code in @airport_neighbours')['lattitude']),\n",
    "                physics = True)\n",
    "\n",
    "    return G"
   ]
  },
  {
   "cell_type": "code",
   "execution_count": 296,
   "metadata": {},
   "outputs": [
    {
     "name": "stderr",
     "output_type": "stream",
     "text": [
      "/Users/jaromeleslie/anaconda3/lib/python3.7/site-packages/ipykernel_launcher.py:24: FutureWarning: `item` has been deprecated and will be removed in a future version\n",
      "/Users/jaromeleslie/anaconda3/lib/python3.7/site-packages/ipykernel_launcher.py:25: FutureWarning: `item` has been deprecated and will be removed in a future version\n"
     ]
    }
   ],
   "source": [
    "initialize_map(routes, \"BGI\")\n",
    "\n"
   ]
  },
  {
   "cell_type": "code",
   "execution_count": 301,
   "metadata": {},
   "outputs": [
    {
     "data": {
      "text/plain": [
       "[1.0,\n",
       " 1.0,\n",
       " 1.0,\n",
       " 1.0,\n",
       " 1.0,\n",
       " 1.0,\n",
       " 1.0,\n",
       " 1.0,\n",
       " 1.0,\n",
       " 1.0,\n",
       " 1.0,\n",
       " 1.0,\n",
       " 1.0,\n",
       " 1.0,\n",
       " 1.0,\n",
       " 1.0,\n",
       " 1.0]"
      ]
     },
     "execution_count": 301,
     "metadata": {},
     "output_type": "execute_result"
    }
   ],
   "source": [
    "\n",
    "\n",
    "list(np.ones(17))"
   ]
  },
  {
   "cell_type": "code",
   "execution_count": 284,
   "metadata": {},
   "outputs": [
    {
     "ename": "AssertionError",
     "evalue": "invalid arg 'physics'",
     "output_type": "error",
     "traceback": [
      "\u001b[0;31m---------------------------------------------------------------------------\u001b[0m",
      "\u001b[0;31mAssertionError\u001b[0m                            Traceback (most recent call last)",
      "\u001b[0;32m<ipython-input-284-2af75afa04f1>\u001b[0m in \u001b[0;36m<module>\u001b[0;34m\u001b[0m\n\u001b[0;32m----> 1\u001b[0;31m \u001b[0mbarbados\u001b[0m \u001b[0;34m=\u001b[0m \u001b[0madd_neighbours\u001b[0m\u001b[0;34m(\u001b[0m\u001b[0mbarbados\u001b[0m\u001b[0;34m,\u001b[0m \u001b[0mroutes\u001b[0m\u001b[0;34m,\u001b[0m \u001b[0;34m\"BGI\"\u001b[0m\u001b[0;34m)\u001b[0m\u001b[0;34m\u001b[0m\u001b[0;34m\u001b[0m\u001b[0m\n\u001b[0m",
      "\u001b[0;32m<ipython-input-282-459492845ca7>\u001b[0m in \u001b[0;36madd_neighbours\u001b[0;34m(G, roster, airport)\u001b[0m\n\u001b[1;32m     28\u001b[0m                 \u001b[0mx\u001b[0m \u001b[0;34m=\u001b[0m \u001b[0mlist\u001b[0m\u001b[0;34m(\u001b[0m\u001b[0mroutes\u001b[0m\u001b[0;34m.\u001b[0m\u001b[0mquery\u001b[0m\u001b[0;34m(\u001b[0m\u001b[0;34m'airport_code in @airport_neighbours'\u001b[0m\u001b[0;34m)\u001b[0m\u001b[0;34m[\u001b[0m\u001b[0;34m'longitude'\u001b[0m\u001b[0;34m]\u001b[0m\u001b[0;34m)\u001b[0m\u001b[0;34m,\u001b[0m\u001b[0;34m\u001b[0m\u001b[0;34m\u001b[0m\u001b[0m\n\u001b[1;32m     29\u001b[0m                 \u001b[0my\u001b[0m \u001b[0;34m=\u001b[0m \u001b[0mlist\u001b[0m\u001b[0;34m(\u001b[0m\u001b[0mroutes\u001b[0m\u001b[0;34m.\u001b[0m\u001b[0mquery\u001b[0m\u001b[0;34m(\u001b[0m\u001b[0;34m'airport_code in @airport_neighbours'\u001b[0m\u001b[0;34m)\u001b[0m\u001b[0;34m[\u001b[0m\u001b[0;34m'lattitude'\u001b[0m\u001b[0;34m]\u001b[0m\u001b[0;34m)\u001b[0m\u001b[0;34m,\u001b[0m\u001b[0;34m\u001b[0m\u001b[0;34m\u001b[0m\u001b[0m\n\u001b[0;32m---> 30\u001b[0;31m                 physics = True)\n\u001b[0m\u001b[1;32m     31\u001b[0m \u001b[0;34m\u001b[0m\u001b[0m\n\u001b[1;32m     32\u001b[0m     \u001b[0;32mreturn\u001b[0m \u001b[0mG\u001b[0m\u001b[0;34m\u001b[0m\u001b[0;34m\u001b[0m\u001b[0m\n",
      "\u001b[0;32m~/anaconda3/lib/python3.7/site-packages/pyvis/network.py\u001b[0m in \u001b[0;36madd_nodes\u001b[0;34m(self, nodes, **kwargs)\u001b[0m\n\u001b[1;32m    236\u001b[0m         \u001b[0mvalid_args\u001b[0m \u001b[0;34m=\u001b[0m \u001b[0;34m[\u001b[0m\u001b[0;34m\"size\"\u001b[0m\u001b[0;34m,\u001b[0m \u001b[0;34m\"value\"\u001b[0m\u001b[0;34m,\u001b[0m \u001b[0;34m\"title\"\u001b[0m\u001b[0;34m,\u001b[0m \u001b[0;34m\"x\"\u001b[0m\u001b[0;34m,\u001b[0m \u001b[0;34m\"y\"\u001b[0m\u001b[0;34m,\u001b[0m \u001b[0;34m\"label\"\u001b[0m\u001b[0;34m,\u001b[0m \u001b[0;34m\"color\"\u001b[0m\u001b[0;34m]\u001b[0m\u001b[0;34m\u001b[0m\u001b[0;34m\u001b[0m\u001b[0m\n\u001b[1;32m    237\u001b[0m         \u001b[0;32mfor\u001b[0m \u001b[0mk\u001b[0m \u001b[0;32min\u001b[0m \u001b[0mkwargs\u001b[0m\u001b[0;34m:\u001b[0m\u001b[0;34m\u001b[0m\u001b[0;34m\u001b[0m\u001b[0m\n\u001b[0;32m--> 238\u001b[0;31m             \u001b[0;32massert\u001b[0m \u001b[0mk\u001b[0m \u001b[0;32min\u001b[0m \u001b[0mvalid_args\u001b[0m\u001b[0;34m,\u001b[0m \u001b[0;34m\"invalid arg '\"\u001b[0m \u001b[0;34m+\u001b[0m \u001b[0mk\u001b[0m \u001b[0;34m+\u001b[0m \u001b[0;34m\"'\"\u001b[0m\u001b[0;34m\u001b[0m\u001b[0;34m\u001b[0m\u001b[0m\n\u001b[0m\u001b[1;32m    239\u001b[0m \u001b[0;34m\u001b[0m\u001b[0m\n\u001b[1;32m    240\u001b[0m         \u001b[0mnd\u001b[0m \u001b[0;34m=\u001b[0m \u001b[0mdefaultdict\u001b[0m\u001b[0;34m(\u001b[0m\u001b[0mdict\u001b[0m\u001b[0;34m)\u001b[0m\u001b[0;34m\u001b[0m\u001b[0;34m\u001b[0m\u001b[0m\n",
      "\u001b[0;31mAssertionError\u001b[0m: invalid arg 'physics'"
     ]
    }
   ],
   "source": [
    "barbados = add_neighbours(barbados, routes, \"BGI\")"
   ]
  },
  {
   "cell_type": "code",
   "execution_count": 285,
   "metadata": {},
   "outputs": [
    {
     "ename": "NameError",
     "evalue": "name 'toggle_physics' is not defined",
     "output_type": "error",
     "traceback": [
      "\u001b[0;31m---------------------------------------------------------------------------\u001b[0m",
      "\u001b[0;31mNameError\u001b[0m                                 Traceback (most recent call last)",
      "\u001b[0;32m<ipython-input-285-d33abe670309>\u001b[0m in \u001b[0;36m<module>\u001b[0;34m\u001b[0m\n\u001b[0;32m----> 1\u001b[0;31m \u001b[0mtoggle_physics\u001b[0m\u001b[0;34m(\u001b[0m\u001b[0;34m)\u001b[0m\u001b[0;34m\u001b[0m\u001b[0;34m\u001b[0m\u001b[0m\n\u001b[0m",
      "\u001b[0;31mNameError\u001b[0m: name 'toggle_physics' is not defined"
     ]
    }
   ],
   "source": [
    "toggle_physics() "
   ]
  },
  {
   "cell_type": "code",
   "execution_count": 201,
   "metadata": {},
   "outputs": [
    {
     "data": {
      "text/plain": [
       "(-59.492500305200004, 13.0746002197)"
      ]
     },
     "execution_count": 201,
     "metadata": {},
     "output_type": "execute_result"
    }
   ],
   "source": [
    "locater(\"BGI\", routes)"
   ]
  },
  {
   "cell_type": "code",
   "execution_count": 211,
   "metadata": {},
   "outputs": [],
   "source": [
    " G = Network()\n",
    "   "
   ]
  },
  {
   "cell_type": "code",
   "execution_count": 215,
   "metadata": {},
   "outputs": [
    {
     "data": {
      "text/plain": [
       "(-59.492500305200004, 13.0746002197)"
      ]
     },
     "execution_count": 215,
     "metadata": {},
     "output_type": "execute_result"
    }
   ],
   "source": [
    "x, y = locater(\"BGI\", routes)\n",
    "x, y"
   ]
  },
  {
   "cell_type": "code",
   "execution_count": 221,
   "metadata": {},
   "outputs": [],
   "source": [
    "G.add_node(0, node = \"BGI\", x = x, y = y, label = str(routes.query('airport_code == \"BGI\"')['country']))"
   ]
  },
  {
   "cell_type": "code",
   "execution_count": 250,
   "metadata": {},
   "outputs": [
    {
     "name": "stderr",
     "output_type": "stream",
     "text": [
      "/Users/jaromeleslie/anaconda3/lib/python3.7/site-packages/ipykernel_launcher.py:1: FutureWarning: `item` has been deprecated and will be removed in a future version\n",
      "  \"\"\"Entry point for launching an IPython kernel.\n"
     ]
    },
    {
     "data": {
      "text/plain": [
       "'Barbados'"
      ]
     },
     "execution_count": 250,
     "metadata": {},
     "output_type": "execute_result"
    }
   ],
   "source": [
    "routes.query('airport_code == \"BGI\"')['country'].item()"
   ]
  },
  {
   "cell_type": "code",
   "execution_count": null,
   "metadata": {},
   "outputs": [],
   "source": []
  },
  {
   "cell_type": "code",
   "execution_count": 130,
   "metadata": {},
   "outputs": [],
   "source": [
    "BGI_neighbours = list(set(list(routes.query(\"airport_code == 'BGI'\")['destination_airport'])[0]))"
   ]
  },
  {
   "cell_type": "code",
   "execution_count": 131,
   "metadata": {},
   "outputs": [
    {
     "data": {
      "text/plain": [
       "17"
      ]
     },
     "execution_count": 131,
     "metadata": {},
     "output_type": "execute_result"
    }
   ],
   "source": [
    "len(BGI_neighbours)"
   ]
  },
  {
   "cell_type": "code",
   "execution_count": 184,
   "metadata": {},
   "outputs": [
    {
     "data": {
      "text/plain": [
       "-59.492500305200004"
      ]
     },
     "execution_count": 184,
     "metadata": {},
     "output_type": "execute_result"
    }
   ],
   "source": [
    "float(routes.query('airport_code == \"BGI\"')['longitude'])"
   ]
  },
  {
   "cell_type": "code",
   "execution_count": 164,
   "metadata": {},
   "outputs": [],
   "source": [
    "# routes.loc['BGI']"
   ]
  },
  {
   "cell_type": "code",
   "execution_count": null,
   "metadata": {},
   "outputs": [],
   "source": []
  },
  {
   "cell_type": "code",
   "execution_count": 104,
   "metadata": {},
   "outputs": [
    {
     "data": {
      "text/plain": [
       "17"
      ]
     },
     "execution_count": 104,
     "metadata": {},
     "output_type": "execute_result"
    }
   ],
   "source": [
    "len(list(routes.query('airport_code in @BGI_neighbours')['airport_name']))"
   ]
  },
  {
   "cell_type": "code",
   "execution_count": 106,
   "metadata": {},
   "outputs": [
    {
     "data": {
      "text/html": [
       "<div>\n",
       "<style scoped>\n",
       "    .dataframe tbody tr th:only-of-type {\n",
       "        vertical-align: middle;\n",
       "    }\n",
       "\n",
       "    .dataframe tbody tr th {\n",
       "        vertical-align: top;\n",
       "    }\n",
       "\n",
       "    .dataframe thead th {\n",
       "        text-align: right;\n",
       "    }\n",
       "</style>\n",
       "<table border=\"1\" class=\"dataframe\">\n",
       "  <thead>\n",
       "    <tr style=\"text-align: right;\">\n",
       "      <th></th>\n",
       "      <th>airport_code</th>\n",
       "      <th>destination_airport</th>\n",
       "      <th>airport_name</th>\n",
       "      <th>city</th>\n",
       "      <th>country</th>\n",
       "      <th>lattitude</th>\n",
       "      <th>longitude</th>\n",
       "      <th>location</th>\n",
       "    </tr>\n",
       "  </thead>\n",
       "  <tbody>\n",
       "    <tr>\n",
       "      <td>114</td>\n",
       "      <td>ANU</td>\n",
       "      <td>[PTP, NEV, CLT, JFK, MIA, YYZ, LGW, PUJ, SKB, ...</td>\n",
       "      <td>V.C. Bird International Airport</td>\n",
       "      <td>Antigua</td>\n",
       "      <td>Antigua and Barbuda</td>\n",
       "      <td>17.136700</td>\n",
       "      <td>-61.792702</td>\n",
       "      <td>(-61.792702, 17.1367)</td>\n",
       "    </tr>\n",
       "    <tr>\n",
       "      <td>678</td>\n",
       "      <td>DOM</td>\n",
       "      <td>[PTP, SXM, SJU, SJU, ANU, BGI, PTP, SJU, SVD, ...</td>\n",
       "      <td>Melville Hall Airport</td>\n",
       "      <td>Dominica</td>\n",
       "      <td>Dominica</td>\n",
       "      <td>15.547000</td>\n",
       "      <td>-61.299999</td>\n",
       "      <td>(-61.29999923706055, 15.54699993133545)</td>\n",
       "    </tr>\n",
       "    <tr>\n",
       "      <td>807</td>\n",
       "      <td>FDF</td>\n",
       "      <td>[CAY, PTP, SDQ, SLU, MIA, SJU, YUL, CAY, ORY, ...</td>\n",
       "      <td>Martinique Aimé Césaire International Airport</td>\n",
       "      <td>Fort-de-france</td>\n",
       "      <td>Martinique</td>\n",
       "      <td>14.591000</td>\n",
       "      <td>-61.003201</td>\n",
       "      <td>(-61.00320053100586, 14.590999603271484)</td>\n",
       "    </tr>\n",
       "    <tr>\n",
       "      <td>841</td>\n",
       "      <td>FRA</td>\n",
       "      <td>[HDF, KIV, ATH, HER, SKG, CLT, DFW, KUL, LHR, ...</td>\n",
       "      <td>Frankfurt am Main International Airport</td>\n",
       "      <td>Frankfurt</td>\n",
       "      <td>Germany</td>\n",
       "      <td>50.033333</td>\n",
       "      <td>8.570556</td>\n",
       "      <td>(8.5705556, 50.033333299999995)</td>\n",
       "    </tr>\n",
       "    <tr>\n",
       "      <td>924</td>\n",
       "      <td>GND</td>\n",
       "      <td>[MIA, YYZ, UVF, JFK, POS, YYZ, JFK, BGI, POS, ...</td>\n",
       "      <td>Point Salines International Airport</td>\n",
       "      <td>Point Salines</td>\n",
       "      <td>Grenada</td>\n",
       "      <td>12.004200</td>\n",
       "      <td>-61.786201</td>\n",
       "      <td>(-61.78620147705078, 12.004199981689453)</td>\n",
       "    </tr>\n",
       "    <tr>\n",
       "      <td>951</td>\n",
       "      <td>GRU</td>\n",
       "      <td>[CAC, DOU, RAO, UBA, UDI, VDC, MVD, CLT, DFW, ...</td>\n",
       "      <td>Guarulhos - Governador André Franco Montoro In...</td>\n",
       "      <td>Sao Paulo</td>\n",
       "      <td>Brazil</td>\n",
       "      <td>-23.435556</td>\n",
       "      <td>-46.473057</td>\n",
       "      <td>(-46.47305679321289, -23.435556411743164)</td>\n",
       "    </tr>\n",
       "    <tr>\n",
       "      <td>1219</td>\n",
       "      <td>JFK</td>\n",
       "      <td>[EZE, MEX, MSY, AMM, ANU, AUH, AUS, BCN, BDA, ...</td>\n",
       "      <td>John F Kennedy International Airport</td>\n",
       "      <td>New York</td>\n",
       "      <td>United States</td>\n",
       "      <td>40.639801</td>\n",
       "      <td>-73.778900</td>\n",
       "      <td>(-73.77890015, 40.63980103)</td>\n",
       "    </tr>\n",
       "    <tr>\n",
       "      <td>1330</td>\n",
       "      <td>KIN</td>\n",
       "      <td>[CUR, MIA, YYZ, FLL, JFK, LGW, ANU, BGI, FLL, ...</td>\n",
       "      <td>Norman Manley International Airport</td>\n",
       "      <td>Kingston</td>\n",
       "      <td>Jamaica</td>\n",
       "      <td>17.935699</td>\n",
       "      <td>-76.787498</td>\n",
       "      <td>(-76.7874984741211, 17.935699462890625)</td>\n",
       "    </tr>\n",
       "    <tr>\n",
       "      <td>1506</td>\n",
       "      <td>LGW</td>\n",
       "      <td>[FNA, CMN, TNG, LAS, MCO, TPA, SZG, CTA, PMO, ...</td>\n",
       "      <td>London Gatwick Airport</td>\n",
       "      <td>London</td>\n",
       "      <td>United Kingdom</td>\n",
       "      <td>51.148102</td>\n",
       "      <td>-0.190278</td>\n",
       "      <td>(-0.19027799367904666, 51.14810180664063)</td>\n",
       "    </tr>\n",
       "    <tr>\n",
       "      <td>1623</td>\n",
       "      <td>MAN</td>\n",
       "      <td>[CGN, HAM, ATH, HEL, JFK, LHR, ORD, PHL, ATL, ...</td>\n",
       "      <td>Manchester Airport</td>\n",
       "      <td>Manchester</td>\n",
       "      <td>United Kingdom</td>\n",
       "      <td>53.353699</td>\n",
       "      <td>-2.274950</td>\n",
       "      <td>(-2.2749500274658203, 53.35369873046875)</td>\n",
       "    </tr>\n",
       "    <tr>\n",
       "      <td>1691</td>\n",
       "      <td>MIA</td>\n",
       "      <td>[EZE, PUJ, MEX, AUA, CUR, AUA, BLA, ANU, ASU, ...</td>\n",
       "      <td>Miami International Airport</td>\n",
       "      <td>Miami</td>\n",
       "      <td>United States</td>\n",
       "      <td>25.793200</td>\n",
       "      <td>-80.290604</td>\n",
       "      <td>(-80.29060363769531, 25.79319953918457)</td>\n",
       "    </tr>\n",
       "    <tr>\n",
       "      <td>1942</td>\n",
       "      <td>OGL</td>\n",
       "      <td>[BGI]</td>\n",
       "      <td>Ogle Airport</td>\n",
       "      <td>Georgetown</td>\n",
       "      <td>Guyana</td>\n",
       "      <td>6.806280</td>\n",
       "      <td>-58.105900</td>\n",
       "      <td>(-58.1058998108, 6.80628013611)</td>\n",
       "    </tr>\n",
       "    <tr>\n",
       "      <td>2127</td>\n",
       "      <td>POS</td>\n",
       "      <td>[CUR, PBM, MIA, PTY, FLL, JFK, UVF, BGI, CCS, ...</td>\n",
       "      <td>Piarco International Airport</td>\n",
       "      <td>Port-of-spain</td>\n",
       "      <td>Trinidad and Tobago</td>\n",
       "      <td>10.595400</td>\n",
       "      <td>-61.337200</td>\n",
       "      <td>(-61.33720016479492, 10.595399856567383)</td>\n",
       "    </tr>\n",
       "    <tr>\n",
       "      <td>2425</td>\n",
       "      <td>SLU</td>\n",
       "      <td>[FDF, FDF, POS, ANU, BGI, DOM, FDF, POS, SVD, ...</td>\n",
       "      <td>George F. L. Charles Airport</td>\n",
       "      <td>Castries</td>\n",
       "      <td>Saint Lucia</td>\n",
       "      <td>14.020200</td>\n",
       "      <td>-60.992901</td>\n",
       "      <td>(-60.992901, 14.0202)</td>\n",
       "    </tr>\n",
       "    <tr>\n",
       "      <td>2500</td>\n",
       "      <td>SVD</td>\n",
       "      <td>[BGI, GND, POS, SLU]</td>\n",
       "      <td>E. T. Joshua Airport</td>\n",
       "      <td>Kingstown</td>\n",
       "      <td>Saint Vincent and the Grenadines</td>\n",
       "      <td>13.144300</td>\n",
       "      <td>-61.210899</td>\n",
       "      <td>(-61.210899353027344, 13.14430046081543)</td>\n",
       "    </tr>\n",
       "    <tr>\n",
       "      <td>2517</td>\n",
       "      <td>SXM</td>\n",
       "      <td>[DOM, PTP, SDQ, CUR, PAP, SDQ, CLT, JFK, MIA, ...</td>\n",
       "      <td>Princess Juliana International Airport</td>\n",
       "      <td>Philipsburg</td>\n",
       "      <td>Netherlands Antilles</td>\n",
       "      <td>18.041000</td>\n",
       "      <td>-63.108898</td>\n",
       "      <td>(-63.108898162799996, 18.0410003662)</td>\n",
       "    </tr>\n",
       "    <tr>\n",
       "      <td>3122</td>\n",
       "      <td>YYZ</td>\n",
       "      <td>[BRU, CLT, DCA, DFW, JFK, LAS, LAX, LGA, LHR, ...</td>\n",
       "      <td>Lester B. Pearson International Airport</td>\n",
       "      <td>Toronto</td>\n",
       "      <td>Canada</td>\n",
       "      <td>43.677200</td>\n",
       "      <td>-79.630600</td>\n",
       "      <td>(-79.63059997559999, 43.6772003174)</td>\n",
       "    </tr>\n",
       "  </tbody>\n",
       "</table>\n",
       "</div>"
      ],
      "text/plain": [
       "     airport_code                                destination_airport  \\\n",
       "114           ANU  [PTP, NEV, CLT, JFK, MIA, YYZ, LGW, PUJ, SKB, ...   \n",
       "678           DOM  [PTP, SXM, SJU, SJU, ANU, BGI, PTP, SJU, SVD, ...   \n",
       "807           FDF  [CAY, PTP, SDQ, SLU, MIA, SJU, YUL, CAY, ORY, ...   \n",
       "841           FRA  [HDF, KIV, ATH, HER, SKG, CLT, DFW, KUL, LHR, ...   \n",
       "924           GND  [MIA, YYZ, UVF, JFK, POS, YYZ, JFK, BGI, POS, ...   \n",
       "951           GRU  [CAC, DOU, RAO, UBA, UDI, VDC, MVD, CLT, DFW, ...   \n",
       "1219          JFK  [EZE, MEX, MSY, AMM, ANU, AUH, AUS, BCN, BDA, ...   \n",
       "1330          KIN  [CUR, MIA, YYZ, FLL, JFK, LGW, ANU, BGI, FLL, ...   \n",
       "1506          LGW  [FNA, CMN, TNG, LAS, MCO, TPA, SZG, CTA, PMO, ...   \n",
       "1623          MAN  [CGN, HAM, ATH, HEL, JFK, LHR, ORD, PHL, ATL, ...   \n",
       "1691          MIA  [EZE, PUJ, MEX, AUA, CUR, AUA, BLA, ANU, ASU, ...   \n",
       "1942          OGL                                              [BGI]   \n",
       "2127          POS  [CUR, PBM, MIA, PTY, FLL, JFK, UVF, BGI, CCS, ...   \n",
       "2425          SLU  [FDF, FDF, POS, ANU, BGI, DOM, FDF, POS, SVD, ...   \n",
       "2500          SVD                               [BGI, GND, POS, SLU]   \n",
       "2517          SXM  [DOM, PTP, SDQ, CUR, PAP, SDQ, CLT, JFK, MIA, ...   \n",
       "3122          YYZ  [BRU, CLT, DCA, DFW, JFK, LAS, LAX, LGA, LHR, ...   \n",
       "\n",
       "                                           airport_name            city  \\\n",
       "114                     V.C. Bird International Airport         Antigua   \n",
       "678                               Melville Hall Airport        Dominica   \n",
       "807       Martinique Aimé Césaire International Airport  Fort-de-france   \n",
       "841             Frankfurt am Main International Airport       Frankfurt   \n",
       "924                 Point Salines International Airport   Point Salines   \n",
       "951   Guarulhos - Governador André Franco Montoro In...       Sao Paulo   \n",
       "1219               John F Kennedy International Airport        New York   \n",
       "1330                Norman Manley International Airport        Kingston   \n",
       "1506                             London Gatwick Airport          London   \n",
       "1623                                 Manchester Airport      Manchester   \n",
       "1691                        Miami International Airport           Miami   \n",
       "1942                                       Ogle Airport      Georgetown   \n",
       "2127                       Piarco International Airport   Port-of-spain   \n",
       "2425                       George F. L. Charles Airport        Castries   \n",
       "2500                               E. T. Joshua Airport       Kingstown   \n",
       "2517             Princess Juliana International Airport     Philipsburg   \n",
       "3122            Lester B. Pearson International Airport         Toronto   \n",
       "\n",
       "                               country  lattitude  longitude  \\\n",
       "114                Antigua and Barbuda  17.136700 -61.792702   \n",
       "678                           Dominica  15.547000 -61.299999   \n",
       "807                         Martinique  14.591000 -61.003201   \n",
       "841                            Germany  50.033333   8.570556   \n",
       "924                            Grenada  12.004200 -61.786201   \n",
       "951                             Brazil -23.435556 -46.473057   \n",
       "1219                     United States  40.639801 -73.778900   \n",
       "1330                           Jamaica  17.935699 -76.787498   \n",
       "1506                    United Kingdom  51.148102  -0.190278   \n",
       "1623                    United Kingdom  53.353699  -2.274950   \n",
       "1691                     United States  25.793200 -80.290604   \n",
       "1942                            Guyana   6.806280 -58.105900   \n",
       "2127               Trinidad and Tobago  10.595400 -61.337200   \n",
       "2425                       Saint Lucia  14.020200 -60.992901   \n",
       "2500  Saint Vincent and the Grenadines  13.144300 -61.210899   \n",
       "2517              Netherlands Antilles  18.041000 -63.108898   \n",
       "3122                            Canada  43.677200 -79.630600   \n",
       "\n",
       "                                       location  \n",
       "114                       (-61.792702, 17.1367)  \n",
       "678     (-61.29999923706055, 15.54699993133545)  \n",
       "807    (-61.00320053100586, 14.590999603271484)  \n",
       "841             (8.5705556, 50.033333299999995)  \n",
       "924    (-61.78620147705078, 12.004199981689453)  \n",
       "951   (-46.47305679321289, -23.435556411743164)  \n",
       "1219                (-73.77890015, 40.63980103)  \n",
       "1330    (-76.7874984741211, 17.935699462890625)  \n",
       "1506  (-0.19027799367904666, 51.14810180664063)  \n",
       "1623   (-2.2749500274658203, 53.35369873046875)  \n",
       "1691    (-80.29060363769531, 25.79319953918457)  \n",
       "1942            (-58.1058998108, 6.80628013611)  \n",
       "2127   (-61.33720016479492, 10.595399856567383)  \n",
       "2425                      (-60.992901, 14.0202)  \n",
       "2500   (-61.210899353027344, 13.14430046081543)  \n",
       "2517       (-63.108898162799996, 18.0410003662)  \n",
       "3122        (-79.63059997559999, 43.6772003174)  "
      ]
     },
     "execution_count": 106,
     "metadata": {},
     "output_type": "execute_result"
    }
   ],
   "source": [
    "routes.query('airport_code in @BGI_neighbours')"
   ]
  },
  {
   "cell_type": "code",
   "execution_count": null,
   "metadata": {},
   "outputs": [],
   "source": []
  },
  {
   "cell_type": "code",
   "execution_count": null,
   "metadata": {},
   "outputs": [],
   "source": []
  },
  {
   "cell_type": "code",
   "execution_count": 147,
   "metadata": {},
   "outputs": [
    {
     "data": {
      "text/plain": [
       "<class 'pyvis.network.Network'> |N|=18 |E|=0"
      ]
     },
     "execution_count": 147,
     "metadata": {},
     "output_type": "execute_result"
    }
   ],
   "source": [
    "BGI2"
   ]
  },
  {
   "cell_type": "code",
   "execution_count": 148,
   "metadata": {},
   "outputs": [],
   "source": [
    "#BGI.enable_physics(True)\n",
    "BGI2.show(\"mymap2.html\")\n"
   ]
  },
  {
   "cell_type": "code",
   "execution_count": 293,
   "metadata": {},
   "outputs": [],
   "source": [
    "#barbados.enable_physics(True)\n",
    "barbados.show(\"test.html\")\n",
    "\n"
   ]
  },
  {
   "cell_type": "code",
   "execution_count": null,
   "metadata": {},
   "outputs": [],
   "source": []
  },
  {
   "cell_type": "code",
   "execution_count": null,
   "metadata": {},
   "outputs": [],
   "source": []
  }
 ],
 "metadata": {
  "kernelspec": {
   "display_name": "Python 3",
   "language": "python",
   "name": "python3"
  },
  "language_info": {
   "codemirror_mode": {
    "name": "ipython",
    "version": 3
   },
   "file_extension": ".py",
   "mimetype": "text/x-python",
   "name": "python",
   "nbconvert_exporter": "python",
   "pygments_lexer": "ipython3",
   "version": "3.7.4"
  }
 },
 "nbformat": 4,
 "nbformat_minor": 4
}
